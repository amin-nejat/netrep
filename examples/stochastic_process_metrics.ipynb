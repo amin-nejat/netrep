{
 "cells": [
  {
   "cell_type": "code",
   "execution_count": 165,
   "metadata": {},
   "outputs": [
    {
     "name": "stdout",
     "output_type": "stream",
     "text": [
      "The autoreload extension is already loaded. To reload it, use:\n",
      "  %reload_ext autoreload\n"
     ]
    }
   ],
   "source": [
    "# %%\n",
    "\"\"\"\n",
    "Tests metrics betwen stochastic process neural representations.\n",
    "\"\"\"\n",
    "import numpy as np\n",
    "from netrep.metrics import GPStochasticMetric,GaussianStochasticMetric,GPStochasticDiff\n",
    "from netrep.utils import rand_orth\n",
    "from sklearn.utils.validation import check_random_state\n",
    "from sklearn.covariance import EmpiricalCovariance\n",
    "\n",
    "from numpy import random as rand\n",
    "from netrep.utils import rand_orth\n",
    "\n",
    "%load_ext autoreload\n",
    "%autoreload 2"
   ]
  },
  {
   "cell_type": "code",
   "execution_count": 166,
   "metadata": {},
   "outputs": [],
   "source": [
    "# %% Class for sampling from a gaussian process given a kernel\n",
    "class GaussianProcess:\n",
    "    def __init__(self,kernel,D):\n",
    "        self.kernel = kernel\n",
    "        self.D = D\n",
    "\n",
    "    def evaluate_kernel(self, xs, ys):\n",
    "        fun = np.vectorize(self.kernel)\n",
    "        return fun(xs[:, None], ys)\n",
    "\n",
    "    def sample(self,ts,seed=0):\n",
    "        np.random.seed(seed)\n",
    "\n",
    "        T = ts.shape[0]\n",
    "        c_g = self.evaluate_kernel(ts,ts)\n",
    "        fs = rand.multivariate_normal(\n",
    "            mean=np.zeros(T),\n",
    "            cov=c_g,\n",
    "            size=self.D\n",
    "        )\n",
    "        return fs"
   ]
  },
  {
   "cell_type": "code",
   "execution_count": 167,
   "metadata": {},
   "outputs": [
    {
     "name": "stdout",
     "output_type": "stream",
     "text": [
      "[[ 0.87442883 -0.48515381]\n",
      " [ 0.48515381  0.87442883]]\n"
     ]
    }
   ],
   "source": [
    "seed = 0\n",
    "t = 4\n",
    "n = 2\n",
    "k = 100\n",
    "\n",
    "# Set random seed, draw random rotation\n",
    "rs = check_random_state(seed)\n",
    "Q = rand_orth(n, n, random_state=rs)\n",
    "\n",
    "print(Q)\n",
    "# Generate data from a gaussian process with RBF kernel\n",
    "ts = np.linspace(0,1,t)\n",
    "gpA = GaussianProcess(\n",
    "    kernel = lambda x, y: 1e-2*(1e-6*(x==y)+np.exp(-np.linalg.norm(x-y)**2/(2*1.**2))),\n",
    "    D=n\n",
    ")\n",
    "sA = np.array([gpA.sample(ts,seed=i) for i in range(k)]).reshape(k,n*t)\n",
    "\n",
    "# Transform GP according to a rotation applied to individiual \n",
    "# blocks of the full covariance matrix\n",
    "A = [sA.mean(0),EmpiricalCovariance().fit(sA).covariance_]\n",
    "B = [\n",
    "    np.kron(np.eye(t),Q)@A[0],\n",
    "    np.kron(np.eye(t),Q)@A[1]@(np.kron(np.eye(t),Q)).T\n",
    "]\n"
   ]
  },
  {
   "cell_type": "code",
   "execution_count": 169,
   "metadata": {},
   "outputs": [
    {
     "name": "stdout",
     "output_type": "stream",
     "text": [
      "DSSD:  -1.0536712127723509e-08 , Marginal SSD:  1.862645149230957e-09\n"
     ]
    }
   ],
   "source": [
    "# Using bi-level optimizatioon and Orthogonal Procrustes\n",
    "\n",
    "# Compute DSSD\n",
    "metric = GPStochasticMetric(n_dims=n,group=\"orth\")\n",
    "dssd = metric.fit_score(A,B)\n",
    "\n",
    "\n",
    "# Compute marginal SSD\n",
    "metric = GaussianStochasticMetric(group=\"orth\")\n",
    "A_marginal = [\n",
    "    A[0].reshape(t,n),\n",
    "    np.array([A[1][i*n:(i+1)*n,i*n:(i+1)*n] for i in range(t)])\n",
    "]\n",
    "B_marginal = [\n",
    "    B[0].reshape(t,n),\n",
    "    np.array([B[1][i*n:(i+1)*n,i*n:(i+1)*n] for i in range(t)])\n",
    "]\n",
    "mssd = metric.fit_score(A_marginal,B_marginal)\n",
    "\n",
    "print('DSSD: ', dssd, ', Marginal SSD: ', mssd)"
   ]
  },
  {
   "cell_type": "code",
   "execution_count": 174,
   "metadata": {},
   "outputs": [
    {
     "data": {
      "application/vnd.jupyter.widget-view+json": {
       "model_id": "4d990497410044ba871bebafa9684b78",
       "version_major": 2,
       "version_minor": 0
      },
      "text/plain": [
       "0it [00:00, ?it/s]"
      ]
     },
     "metadata": {},
     "output_type": "display_data"
    },
    {
     "data": {
      "application/vnd.jupyter.widget-view+json": {
       "model_id": "8de6d861612a4b29bbc6891b7f250659",
       "version_major": 2,
       "version_minor": 0
      },
      "text/plain": [
       "0it [00:00, ?it/s]"
      ]
     },
     "metadata": {},
     "output_type": "display_data"
    },
    {
     "data": {
      "application/vnd.jupyter.widget-view+json": {
       "model_id": "1ed1518934534442856c463ca56e5ae0",
       "version_major": 2,
       "version_minor": 0
      },
      "text/plain": [
       "0it [00:00, ?it/s]"
      ]
     },
     "metadata": {},
     "output_type": "display_data"
    },
    {
     "data": {
      "application/vnd.jupyter.widget-view+json": {
       "model_id": "772f57438b0d40a0b0c464d10d7d7d06",
       "version_major": 2,
       "version_minor": 0
      },
      "text/plain": [
       "0it [00:00, ?it/s]"
      ]
     },
     "metadata": {},
     "output_type": "display_data"
    },
    {
     "name": "stdout",
     "output_type": "stream",
     "text": [
      "DSSD:  0.0010164244 , Adapted DSSD:  0.0012221799 , Marginal SSD:  0.001345977 , Knothe Rosenblatt SSD:  0.00032661887\n"
     ]
    }
   ],
   "source": [
    "# Using differentiable optimization and Cayley orthogonal parameterization\n",
    "\n",
    "metric = GPStochasticDiff(n_dims=n,n_times=t,type=\"Bures\")\n",
    "dssd = metric.fit_score(A,B,lr=1e-3,tol=1e-6,epsilon=1e-6)\n",
    "\n",
    "metric = GPStochasticDiff(n_dims=n,n_times=t,type=\"Adapted_Bures\")\n",
    "assd = metric.fit_score(A,B,lr=1e-3,tol=1e-6,epsilon=1e-6)\n",
    "\n",
    "metric = GPStochasticDiff(n_dims=n,n_times=t,type=\"Knothe_Rosenblatt\")\n",
    "kssd = metric.fit_score(A,B,lr=1e-3,tol=1e-6,epsilon=1e-6)\n",
    "\n",
    "metric = GPStochasticDiff(n_dims=n,n_times=t,type=\"Marginal_Bures\")\n",
    "mssd = metric.fit_score(A,B,lr=1e-3,tol=1e-6,epsilon=1e-6)\n",
    "\n",
    "print('DSSD: ', dssd, ', Adapted DSSD: ', assd, ', Marginal SSD: ', mssd, ', Knothe Rosenblatt SSD: ', kssd)\n",
    "\n"
   ]
  }
 ],
 "metadata": {
  "kernelspec": {
   "display_name": "netrep",
   "language": "python",
   "name": "python3"
  },
  "language_info": {
   "codemirror_mode": {
    "name": "ipython",
    "version": 3
   },
   "file_extension": ".py",
   "mimetype": "text/x-python",
   "name": "python",
   "nbconvert_exporter": "python",
   "pygments_lexer": "ipython3",
   "version": "3.8.18"
  }
 },
 "nbformat": 4,
 "nbformat_minor": 2
}
