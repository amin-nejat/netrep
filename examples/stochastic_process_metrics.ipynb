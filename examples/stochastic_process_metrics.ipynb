{
 "cells": [
  {
   "cell_type": "code",
   "execution_count": 2,
   "metadata": {},
   "outputs": [],
   "source": [
    "# %%\n",
    "\"\"\"\n",
    "Tests metrics betwen stochastic process neural representations.\n",
    "\"\"\"\n",
    "import numpy as np\n",
    "from netrep.metrics import GPStochasticMetric,GaussianStochasticMetric\n",
    "from netrep.utils import rand_orth\n",
    "from sklearn.utils.validation import check_random_state\n",
    "from sklearn.covariance import EmpiricalCovariance\n",
    "\n",
    "from numpy import random as rand\n",
    "from netrep.utils import rand_orth\n",
    "\n",
    "%load_ext autoreload\n",
    "%autoreload 2"
   ]
  },
  {
   "cell_type": "code",
   "execution_count": 83,
   "metadata": {},
   "outputs": [],
   "source": [
    "\n",
    "TOL = 1e-6\n",
    "\n",
    "# %% Class for sampling from a gaussian process given a kernel\n",
    "class GaussianProcess:\n",
    "    def __init__(self,kernel,D):\n",
    "        self.kernel = kernel\n",
    "        self.D = D\n",
    "\n",
    "    def evaluate_kernel(self, xs, ys):\n",
    "        fun = np.vectorize(self.kernel)\n",
    "        return fun(xs[:, None], ys)\n",
    "\n",
    "    def sample(self,ts,seed=0):\n",
    "        np.random.seed(seed)\n",
    "\n",
    "        T = ts.shape[0]\n",
    "        c_g = self.evaluate_kernel(ts,ts)\n",
    "        fs = rand.multivariate_normal(\n",
    "            mean=np.zeros(T),\n",
    "            cov=c_g,\n",
    "            size=self.D\n",
    "        )\n",
    "        return fs"
   ]
  },
  {
   "cell_type": "code",
   "execution_count": 110,
   "metadata": {},
   "outputs": [
    {
     "name": "stdout",
     "output_type": "stream",
     "text": [
      "DSSD:  5.637851296924623e-18 , Adapted DSSD:  0.22862959061219798 , Marginal SSD:  -1.5208433958286904e-09 , Full SSD:  5.5241547758127784e-05\n"
     ]
    }
   ],
   "source": [
    "seed = 0\n",
    "t = 3\n",
    "n = 2\n",
    "k = 100\n",
    "\n",
    "# Set random seed, draw random rotation\n",
    "rs = check_random_state(seed)\n",
    "Q = rand_orth(n, n, random_state=rs)\n",
    "\n",
    "# Generate data from a gaussian process with RBF kernel\n",
    "ts = np.linspace(0,1,t)\n",
    "gpA = GaussianProcess(\n",
    "    kernel = lambda x, y: 1e-2*(1e-6*(x==y)+np.exp(-np.linalg.norm(x-y)**2/(2*1.**2))),\n",
    "    D=n\n",
    ")\n",
    "sA = np.array([gpA.sample(ts,seed=i) for i in range(k)]).reshape(k,n*t)\n",
    "\n",
    "# Transform GP according to a rotation applied to individiual \n",
    "# blocks of the full covariance matrix\n",
    "A = [sA.mean(0),EmpiricalCovariance().fit(sA).covariance_]\n",
    "B = [\n",
    "    np.kron(np.eye(t),Q)@A[0],\n",
    "    np.kron(np.eye(t),Q)@A[1]@(np.kron(np.eye(t),Q)).T\n",
    "]\n",
    "\n",
    "# Compute DSSD\n",
    "metric = GPStochasticMetric(n_dims=n,group=\"orth\")\n",
    "\n",
    "dssd = metric.fit_score(A,B)\n",
    "\n",
    "# Compute Adapted DSSD\n",
    "metric = GPStochasticMetric(n_dims=n,group=\"orth\",type=\"adapted\")\n",
    "\n",
    "adssd = metric.fit_score(A,B)\n",
    "\n",
    "# Compute marginal SSD\n",
    "metric = GaussianStochasticMetric(group=\"orth\")\n",
    "\n",
    "A_marginal = [\n",
    "    A[0].reshape(t,n),\n",
    "    np.array([A[1][i*n:(i+1)*n,i*n:(i+1)*n] for i in range(t)])\n",
    "]\n",
    "\n",
    "B_marginal = [\n",
    "    B[0].reshape(t,n),\n",
    "    np.array([B[1][i*n:(i+1)*n,i*n:(i+1)*n] for i in range(t)])\n",
    "]\n",
    "\n",
    "marginal_ssd = metric.fit_score(A_marginal,B_marginal)\n",
    "\n",
    "# Compute full SSD\n",
    "metric = GaussianStochasticMetric(group=\"orth\",init=\"rand\",n_restarts=50)\n",
    "\n",
    "A_full = [A[0][None],A[1][None]]\n",
    "B_full = [B[0][None],B[1][None]]\n",
    "\n",
    "full_ssd = metric.fit_score(A_full,B_full)\n",
    "\n",
    "\n",
    "print('DSSD: ', dssd, ', Adapted DSSD: ', adssd, ', Marginal SSD: ', marginal_ssd, ', Full SSD: ', full_ssd)\n"
   ]
  }
 ],
 "metadata": {
  "kernelspec": {
   "display_name": "netrep",
   "language": "python",
   "name": "python3"
  },
  "language_info": {
   "codemirror_mode": {
    "name": "ipython",
    "version": 3
   },
   "file_extension": ".py",
   "mimetype": "text/x-python",
   "name": "python",
   "nbconvert_exporter": "python",
   "pygments_lexer": "ipython3",
   "version": "3.8.18"
  }
 },
 "nbformat": 4,
 "nbformat_minor": 2
}
